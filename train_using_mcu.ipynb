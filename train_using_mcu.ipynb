{
 "cells": [
  {
   "cell_type": "code",
   "execution_count": null,
   "metadata": {},
   "outputs": [],
   "source": [
    "import dataset\n",
    "import classificationModel\n",
    "import pandas as pd\n",
    "import numpy as np\n",
    "import torch\n",
    "from sklearn.preprocessing import OrdinalEncoder\n",
    "from torch.utils.data import random_split"
   ]
  },
  {
   "cell_type": "code",
   "execution_count": null,
   "metadata": {},
   "outputs": [],
   "source": [
    "categories = [\"chirping_birds\", \"crackling_fire\", \"hand_saw\", \"chainsaw\", \"helicopter\"]\n",
    "audio_path = './ESC-50/audio/'\n",
    "meta_path = './ESC-50/meta/'\n",
    "nothing_path = './room_sounds/'\n",
    "\n",
    "data = pd.read_csv(meta_path + 'esc50.csv')\n",
    "\n",
    "## Remove rows where the category does not belong to categories\n",
    "data = data[data.category.isin(categories)]\n",
    "\n",
    "re_encoder = OrdinalEncoder(dtype=np.long)\n",
    "re_encoder.fit(data[[\"category\"]])\n",
    "data[[\"category\"]] = re_encoder.transform(data[[\"category\"]])\n",
    "\n",
    "print(re_encoder.inverse_transform(np.array([0,1,2,3,4]).reshape(-1,1)))\n",
    "data"
   ]
  },
  {
   "cell_type": "code",
   "execution_count": null,
   "metadata": {},
   "outputs": [],
   "source": [
    "ds = dataset.SoundDS(data,audio_path,False,0)\n",
    "ds.augmentations = []\n",
    "audio = ds.getAudio(0)\n",
    "dataset.AudioUtil.playSound(audio)\n",
    "datatruc = np.rint(audio[0].numpy() * (2**12)).astype(np.int16)\n",
    "np.savetxt(\"audio.txt\",datatruc,fmt='%i')"
   ]
  }
 ],
 "metadata": {
  "interpreter": {
   "hash": "31f2aee4e71d21fbe5cf8b01ff0e069b9275f58929596ceb00d14d90e3e16cd6"
  },
  "kernelspec": {
   "display_name": "Python 3.8.10 64-bit",
   "language": "python",
   "name": "python3"
  },
  "language_info": {
   "codemirror_mode": {
    "name": "ipython",
    "version": 3
   },
   "file_extension": ".py",
   "mimetype": "text/x-python",
   "name": "python",
   "nbconvert_exporter": "python",
   "pygments_lexer": "ipython3",
   "version": "3.8.10"
  },
  "orig_nbformat": 4
 },
 "nbformat": 4,
 "nbformat_minor": 2
}
