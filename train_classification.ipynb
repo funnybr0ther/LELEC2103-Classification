{
 "cells": [
  {
   "cell_type": "code",
   "execution_count": null,
   "metadata": {},
   "outputs": [],
   "source": [
    "import dataset\n",
    "import classificationModel\n",
    "import pandas as pd\n",
    "import numpy as np\n",
    "import torch\n",
    "from sklearn.preprocessing import OrdinalEncoder\n",
    "from torch.utils.data import random_split"
   ]
  },
  {
   "cell_type": "code",
   "execution_count": null,
   "metadata": {},
   "outputs": [],
   "source": [
    "categories = [\"chirping_birds\", \"crackling_fire\", \"hand_saw\", \"chainsaw\", \"helicopter\"]\n",
    "audio_path = './ESC-50/audio/'\n",
    "meta_path = './ESC-50/meta/'\n",
    "nothing_path = './room_sounds/'\n",
    "\n",
    "data = pd.read_csv(meta_path + 'esc50.csv')\n",
    "\n",
    "## Remove rows where the category does not belong to categories\n",
    "data = data[data.category.isin(categories)]\n",
    "\n",
    "re_encoder = OrdinalEncoder(dtype=np.long)\n",
    "re_encoder.fit(data[[\"category\"]])\n",
    "data[[\"category\"]] = re_encoder.transform(data[[\"category\"]])\n",
    "\n",
    "print(re_encoder.inverse_transform(np.array([0,1,2,3,4]).reshape(-1,1)))\n",
    "data"
   ]
  },
  {
   "cell_type": "code",
   "execution_count": null,
   "metadata": {},
   "outputs": [],
   "source": [
    "ds = dataset.SoundDS(data,audio_path,True,4)\n",
    "# Random split of 80:20 between training and validation\n",
    "num_items = len(ds)\n",
    "print(num_items)\n",
    "num_train = round(num_items * 0.8)\n",
    "num_val = num_items - num_train\n",
    "train_ds, val_ds = random_split(ds, [num_train, num_val])\n",
    "\n",
    "# Create training and validation data loaders\n",
    "train_dl = torch.utils.data.DataLoader(train_ds, batch_size=16, shuffle=True)\n",
    "val_dl = torch.utils.data.DataLoader(val_ds, batch_size=16, shuffle=False)\n"
   ]
  },
  {
   "cell_type": "code",
   "execution_count": null,
   "metadata": {},
   "outputs": [],
   "source": [
    "myModel = classificationModel.AudioClassifier()\n",
    "device = torch.device(\"cpu\")\n",
    "myModel = myModel.to(device)\n",
    "# Check that it is on Cuda\n",
    "next(myModel.parameters()).device"
   ]
  },
  {
   "cell_type": "code",
   "execution_count": null,
   "metadata": {},
   "outputs": [],
   "source": [
    "num_epochs=10   # Just for demo, adjust this higher.settings\n",
    "classificationModel.training(myModel, train_dl, num_epochs)\n"
   ]
  },
  {
   "cell_type": "code",
   "execution_count": null,
   "metadata": {},
   "outputs": [],
   "source": [
    "print(\"bill\")\n",
    "torch.save(myModel.state_dict(),'myModel.pt')\n",
    "classificationModel.inference(myModel, val_dl)"
   ]
  },
  {
   "cell_type": "code",
   "execution_count": null,
   "metadata": {},
   "outputs": [],
   "source": [
    "dataset.AudioUtil.playSound(ds.getAudio(20))"
   ]
  },
  {
   "cell_type": "code",
   "execution_count": null,
   "metadata": {},
   "outputs": [],
   "source": [
    "categoryList = ['chainsaw','chirping_birds','crackling_fire','hand_saw','helicopter','nothing']\n",
    "ds = dataset.SoundDS(data,audio_path,False)\n",
    "myModel.eval()\n",
    "classified_correctly = 0\n",
    "for i in range(0,3890):\n",
    "    sound = ds.getAudio(i)\n",
    "    input, category = ds[i]\n",
    "    input_m, input_s = input.mean(), input.std()\n",
    "    input = (input - input_m) / input_s\n",
    "    input = input.reshape((1,1,20,10))\n",
    "    inputs = torch.empty((16,1,20,10))\n",
    "    for i in range(0,16):\n",
    "        inputs[i,:,:,:] = input\n",
    "    # dataset.AudioUtil.playSound(sound)\n",
    "    output = myModel(inputs)\n",
    "    _, prediction = torch.max(output,1)\n",
    "    if prediction[0] == category:\n",
    "        print(\"classified correctly!\")\n",
    "        classified_correctly += 1\n",
    "    print(prediction)\n",
    "print(classified_correctly)"
   ]
  }
 ],
 "metadata": {
  "interpreter": {
   "hash": "31f2aee4e71d21fbe5cf8b01ff0e069b9275f58929596ceb00d14d90e3e16cd6"
  },
  "kernelspec": {
   "display_name": "Python 3.8.10 64-bit",
   "language": "python",
   "name": "python3"
  },
  "language_info": {
   "codemirror_mode": {
    "name": "ipython",
    "version": 3
   },
   "file_extension": ".py",
   "mimetype": "text/x-python",
   "name": "python",
   "nbconvert_exporter": "python",
   "pygments_lexer": "ipython3",
   "version": "3.8.10"
  },
  "orig_nbformat": 4
 },
 "nbformat": 4,
 "nbformat_minor": 2
}
