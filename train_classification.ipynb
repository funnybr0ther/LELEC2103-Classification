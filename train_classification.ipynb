{
 "cells": [
  {
   "cell_type": "code",
   "execution_count": null,
   "metadata": {},
   "outputs": [],
   "source": [
    "import dataset\n",
    "import classificationModel\n",
    "import pandas as pd\n",
    "import numpy as np\n",
    "import torch\n",
    "from sklearn.preprocessing import OrdinalEncoder\n",
    "from torch.utils.data import random_split"
   ]
  },
  {
   "cell_type": "code",
   "execution_count": null,
   "metadata": {},
   "outputs": [],
   "source": [
    "categories = [\"chirping_birds\", \"crackling_fire\", \"hand_saw\", \"chainsaw\", \"helicopter\"]\n",
    "audio_path = './ESC-50/audio/'\n",
    "meta_path = './ESC-50/meta/'\n",
    "nothing_path = './room_sounds/'\n",
    "\n",
    "data = pd.read_csv(meta_path + 'esc50.csv')\n",
    "\n",
    "## Remove rows where the category does not belong to categories\n",
    "data = data[data.category.isin(categories)]\n",
    "\n",
    "re_encoder = OrdinalEncoder(dtype=np.long)\n",
    "re_encoder.fit(data[[\"category\"]])\n",
    "data[[\"category\"]] = re_encoder.transform(data[[\"category\"]])\n",
    "\n",
    "print(re_encoder.inverse_transform(np.array([0,1,2,3,4]).reshape(-1,1)))\n",
    "data"
   ]
  },
  {
   "cell_type": "code",
   "execution_count": null,
   "metadata": {},
   "outputs": [],
   "source": [
    "file_path = audio_path + data[\"filename\"].iloc[0]\n",
    "aud = dataset.AudioUtil.open(file_path)\n",
    "dataset.AudioUtil.displayTime(aud)\n",
    "# dataset.AudioUtil.playSound(aud)\n",
    "aud = dataset.AudioUtil.resample(aud,11025)\n",
    "melspec = dataset.AudioUtil.toMelSpec(aud)\n",
    "dataset.AudioUtil.displayMelspec(melspec)"
   ]
  },
  {
   "cell_type": "code",
   "execution_count": null,
   "metadata": {},
   "outputs": [],
   "source": [
    "ds = dataset.SoundDS(data,audio_path,True,4)\n",
    "# Random split of 80:20 between training and validation\n",
    "num_items = len(ds)\n",
    "print(num_items)\n",
    "num_train = round(num_items * 0.8)\n",
    "num_val = num_items - num_train\n",
    "train_ds, val_ds = random_split(ds, [num_train, num_val])\n",
    "\n",
    "# Create training and validation data loaders\n",
    "train_dl = torch.utils.data.DataLoader(train_ds, batch_size=16, shuffle=True)\n",
    "val_dl = torch.utils.data.DataLoader(val_ds, batch_size=16, shuffle=False)\n",
    "test_dl = torch.utils.data.DataLoader(val_ds, batch_size=1, shuffle=False)\n"
   ]
  },
  {
   "cell_type": "code",
   "execution_count": null,
   "metadata": {},
   "outputs": [],
   "source": [
    "myModel = classificationModel.AudioClassifier()\n",
    "device = torch.device(\"cpu\")\n",
    "myModel = myModel.to(device)\n",
    "# Check that it is on Cuda\n",
    "next(myModel.parameters()).device"
   ]
  },
  {
   "cell_type": "code",
   "execution_count": null,
   "metadata": {},
   "outputs": [],
   "source": [
    "num_epochs=10   # Just for demo, adjust this higher.settings\n",
    "classificationModel.training(myModel, train_dl, num_epochs)"
   ]
  },
  {
   "cell_type": "code",
   "execution_count": null,
   "metadata": {},
   "outputs": [],
   "source": [
    "print(\"bill\")\n",
    "torch.save(myModel.state_dict(),'myModel.pt')\n",
    "classificationModel.inference(myModel, val_dl)"
   ]
  },
  {
   "cell_type": "code",
   "execution_count": null,
   "metadata": {},
   "outputs": [],
   "source": [
    "def manual_testing (model, val_dl):\n",
    "  correct_prediction = 0\n",
    "  total_prediction = 0\n",
    "\n",
    "  # Disable gradient updates\n",
    "  with torch.no_grad():\n",
    "    for data in val_dl:\n",
    "      \n",
    "      inputs = torch.Tensor(16,1,20,10)\n",
    "      labels = torch.Tensor(16)\n",
    "      # Get the input features and target labels, and put them on the GPU\n",
    "      inputs[0] = data[0].to(device)[0]\n",
    "      labels[0] = data[1].to(device)\n",
    "      for i in range(1,16):\n",
    "        inputs[i], labels[i] = ds[np.random.randint(0,len(ds))]\n",
    "      # Normalize the inputs\n",
    "      \n",
    "      # inputs_m, inputs_s = inputs.mean(), inputs.std()\n",
    "      # inputs = (inputs - inputs_m) / inputs_s\n",
    "\n",
    "      # dataset.AudioUtil.displayMelspec(inputs[0])\n",
    "\n",
    "      # Get predictions\n",
    "      outputs = model(inputs)\n",
    "      # Get the predicted class with the highest score\n",
    "      _, prediction = torch.max(outputs,1)\n",
    "      # Count of predictions that matched the target label\n",
    "      correct_prediction += (prediction[0] == labels[0]).sum().item()\n",
    "      total_prediction += 1\n",
    "    \n",
    "  acc = correct_prediction/total_prediction\n",
    "  print(f'Accuracy: {acc:.2f}, Total items: {total_prediction}')\n",
    "\n",
    "manual_testing(myModel,test_dl)"
   ]
  }
 ],
 "metadata": {
  "interpreter": {
   "hash": "31f2aee4e71d21fbe5cf8b01ff0e069b9275f58929596ceb00d14d90e3e16cd6"
  },
  "kernelspec": {
   "display_name": "Python 3.8.10 64-bit",
   "language": "python",
   "name": "python3"
  },
  "language_info": {
   "codemirror_mode": {
    "name": "ipython",
    "version": 3
   },
   "file_extension": ".py",
   "mimetype": "text/x-python",
   "name": "python",
   "nbconvert_exporter": "python",
   "pygments_lexer": "ipython3",
   "version": "3.8.10"
  },
  "orig_nbformat": 4
 },
 "nbformat": 4,
 "nbformat_minor": 2
}
