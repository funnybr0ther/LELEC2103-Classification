{
 "cells": [
  {
   "cell_type": "code",
   "execution_count": null,
   "metadata": {},
   "outputs": [],
   "source": [
    "import dataset\n",
    "import classificationModel\n",
    "import pandas as pd\n",
    "import numpy as np\n",
    "import torch\n",
    "from sklearn.preprocessing import OrdinalEncoder\n",
    "from torch.utils.data import random_split"
   ]
  },
  {
   "cell_type": "code",
   "execution_count": null,
   "metadata": {},
   "outputs": [],
   "source": [
    "categories = [\"chirping_birds\", \"crackling_fire\", \"hand_saw\", \"chainsaw\", \"helicopter\"]\n",
    "audio_path = './ESC-50/audio/'\n",
    "meta_path = './ESC-50/meta/'\n",
    "nothing_path = './room_sounds/'\n",
    "\n",
    "data = pd.read_csv(meta_path + 'esc50.csv')\n",
    "\n",
    "## Remove rows where the category does not belong to categories\n",
    "data = data[data.category.isin(categories)]\n",
    "\n",
    "re_encoder = OrdinalEncoder(dtype=np.long)\n",
    "re_encoder.fit(data[[\"category\"]])\n",
    "data[[\"category\"]] = re_encoder.transform(data[[\"category\"]])\n",
    "\n",
    "print(re_encoder.inverse_transform(np.array([0,1,2,3,4]).reshape(-1,1)))"
   ]
  },
  {
   "cell_type": "code",
   "execution_count": null,
   "metadata": {},
   "outputs": [],
   "source": [
    "### Small test\n",
    "myModel = classificationModel.AudioClassifier()\n",
    "myModel.load_state_dict(torch.load('myModel.pt'))\n",
    "device = torch.device(\"cpu\")\n",
    "myModel = myModel.to(device)\n",
    "# Check that it is on Cuda\n",
    "next(myModel.parameters()).device\n",
    "categoryList = ['chainsaw','chirping_birds','crackling_fire','hand_saw','helicopter','nothing']\n",
    "ds = dataset.SoundDS(data,audio_path,False)\n",
    "\n",
    "# myModel.eval()\n",
    "\n",
    "total_classif = 400\n",
    "classified_correctly = 0\n",
    "\n",
    "\n",
    "with torch.no_grad():\n",
    "    for i in range(0,total_classif):\n",
    "      \n",
    "        inputs = torch.Tensor(16,1,20,10)\n",
    "        labels = torch.Tensor(16)\n",
    "        for j in range(1,16):\n",
    "            inputs[j], labels[j] = ds[np.random.randint(0,len(ds))]\n",
    "\n",
    "        data_to_get = np.random.randint(0,len(ds))\n",
    "        data = ds[data_to_get] \n",
    "        sound = ds.getAudio(data_to_get)\n",
    "        inputs[0], labels[0] = data[0], data[1]\n",
    "\n",
    "        input_m, input_s = inputs.mean(), inputs.std()\n",
    "        inputs = (inputs - input_m) / input_s\n",
    "\n",
    "        output = myModel(inputs)\n",
    "        _, prediction = torch.max(output,1)\n",
    "        if prediction[0] == labels[0]:\n",
    "            classified_correctly += 1\n",
    "        print(prediction[0])\n",
    "    \n",
    "acc = classified_correctly/total_classif\n",
    "print(f'Accuracy: {acc:.2f}, Total items: {total_classif}')"
   ]
  }
 ],
 "metadata": {
  "interpreter": {
   "hash": "916dbcbb3f70747c44a77c7bcd40155683ae19c65e1c03b4aa3499c5328201f1"
  },
  "kernelspec": {
   "display_name": "Python 3.8.10 64-bit",
   "language": "python",
   "name": "python3"
  },
  "language_info": {
   "codemirror_mode": {
    "name": "ipython",
    "version": 3
   },
   "file_extension": ".py",
   "mimetype": "text/x-python",
   "name": "python",
   "nbconvert_exporter": "python",
   "pygments_lexer": "ipython3",
   "version": "3.8.10"
  },
  "orig_nbformat": 4
 },
 "nbformat": 4,
 "nbformat_minor": 2
}
