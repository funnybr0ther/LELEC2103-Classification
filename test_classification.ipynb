{
 "cells": [
  {
   "cell_type": "code",
   "execution_count": null,
   "metadata": {},
   "outputs": [],
   "source": [
    "import dataset\n",
    "import classificationModel\n",
    "import pandas as pd\n",
    "import numpy as np\n",
    "import torch\n",
    "from sklearn.preprocessing import OrdinalEncoder\n",
    "from torch.utils.data import random_split"
   ]
  },
  {
   "cell_type": "code",
   "execution_count": null,
   "metadata": {},
   "outputs": [],
   "source": [
    "categories = [\"chirping_birds\", \"crackling_fire\", \"hand_saw\", \"chainsaw\", \"helicopter\"]\n",
    "audio_path = './ESC-50/audio/'\n",
    "meta_path = './ESC-50/meta/'\n",
    "nothing_path = './room_sounds/'\n",
    "\n",
    "data = pd.read_csv(meta_path + 'esc50.csv')\n",
    "\n",
    "## Remove rows where the category does not belong to categories\n",
    "data = data[data.category.isin(categories)]\n",
    "\n",
    "re_encoder = OrdinalEncoder(dtype=np.long)\n",
    "re_encoder.fit(data[[\"category\"]])\n",
    "data[[\"category\"]] = re_encoder.transform(data[[\"category\"]])\n",
    "\n",
    "print(re_encoder.inverse_transform(np.array([0,1,2,3,4]).reshape(-1,1)))"
   ]
  },
  {
   "cell_type": "code",
   "execution_count": null,
   "metadata": {},
   "outputs": [],
   "source": [
    "### Small test\n",
    "myModel = classificationModel.AudioClassifier()\n",
    "myModel.load_state_dict(torch.load('myModel.pt'))\n",
    "categoryList = ['chainsaw','chirping_birds','crackling_fire','hand_saw','helicopter','nothing']\n",
    "ds = dataset.SoundDS(data,audio_path,False)\n",
    "myModel.eval()\n",
    "classified_correctly = 0\n",
    "for i in range(0,3890):\n",
    "    sound = ds.getAudio(i)\n",
    "    input, category = ds[i]\n",
    "    input_m, input_s = input.mean(), input.std()\n",
    "    input = (input - input_m) / input_s\n",
    "    input = input.reshape((1,1,20,10))\n",
    "    inputs = torch.empty((16,1,20,10))\n",
    "    for i in range(0,16):\n",
    "        inputs[i,:,:,:] = input\n",
    "    # dataset.AudioUtil.playSound(sound)\n",
    "    output = myModel(inputs)\n",
    "    _, prediction = torch.max(output,1)\n",
    "    if prediction[0] == category:\n",
    "        print(\"classified correctly!\")\n",
    "        classified_correctly += 1\n",
    "    print(prediction)\n",
    "print(classified_correctly)"
   ]
  }
 ],
 "metadata": {
  "interpreter": {
   "hash": "916dbcbb3f70747c44a77c7bcd40155683ae19c65e1c03b4aa3499c5328201f1"
  },
  "kernelspec": {
   "display_name": "Python 3.8.10 64-bit",
   "language": "python",
   "name": "python3"
  },
  "language_info": {
   "codemirror_mode": {
    "name": "ipython",
    "version": 3
   },
   "file_extension": ".py",
   "mimetype": "text/x-python",
   "name": "python",
   "nbconvert_exporter": "python",
   "pygments_lexer": "ipython3",
   "version": "3.8.10"
  },
  "orig_nbformat": 4
 },
 "nbformat": 4,
 "nbformat_minor": 2
}
